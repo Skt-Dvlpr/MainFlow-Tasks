{
 "cells": [
  {
   "cell_type": "code",
   "execution_count": 3,
   "id": "1c2c2eb8-9302-41b1-9864-d2ac4a7a2cbf",
   "metadata": {},
   "outputs": [
    {
     "name": "stdout",
     "output_type": "stream",
     "text": [
      "Updated List: ['apple', 'blackcurrant', 'cherry', 'orange']\n"
     ]
    }
   ],
   "source": [
    "# Task 1\n",
    "# Write a Python code to create a list, a dictionary, and a set. Perform basic operations like adding, removing, and modifying elements.\n",
    "\n",
    "# Lists are used to store multiple items in a single variable. Lists are created using square brackets.\n",
    "# List items are ordered, changeable, and allow duplicate values.\n",
    "my_list = [\"apple\", \"banana\", \"cherry\", \"mango\"]\n",
    "\n",
    "# change list items\n",
    "my_list[1] = \"blackcurrant\"\n",
    "\n",
    "# adding elements\n",
    "my_list.append(\"orange\")\n",
    "\n",
    "# removing elements\n",
    "my_list.remove(\"mango\")\n",
    "\n",
    "print(\"Updated List:\", my_list)\n"
   ]
  },
  {
   "cell_type": "code",
   "execution_count": 4,
   "id": "c63e32dc-3154-4a00-ab34-85294f67abb3",
   "metadata": {},
   "outputs": [
    {
     "name": "stdout",
     "output_type": "stream",
     "text": [
      "Updated Set: {False, True, 5, 'orange', 'cherry', 'Hola', 'apple'}\n"
     ]
    }
   ],
   "source": [
    "# Sets are used to store multiple items in a single variable. A set is a collection that is unordered, unchangeable, and unindexed.\n",
    "# Sets are written with curly brackets.\n",
    "my_set = {\"apple\", \"banana\", \"cherry\", False, True,4,5}\n",
    "\n",
    "# modifying set elements\n",
    "my_set.discard(4)\n",
    "my_set.add(\"Hola\")\n",
    "\n",
    "# adding elements\n",
    "my_set.add(\"orange\")\n",
    "\n",
    "# removing elements\n",
    "my_set.remove(\"banana\")\n",
    "\n",
    "print(\"Updated Set:\", my_set)\n"
   ]
  },
  {
   "cell_type": "code",
   "execution_count": 5,
   "id": "de371c8e-9783-43b7-a4e3-6ce0f35c9a52",
   "metadata": {},
   "outputs": [
    {
     "name": "stdout",
     "output_type": "stream",
     "text": [
      "Updated Dictionary: {'brand': 'Ford', 'year': 2018, 'owner': 'Toreto', 'color': 'black'}\n"
     ]
    }
   ],
   "source": [
    "# Dictionaries are used to store data values in key: value pairs. A dictionary is a collection that is ordered, changeable and does not allow duplicates.\n",
    "# Dictionaries are written with curly brackets.\n",
    "my_dict = {\n",
    "  \"brand\": \"Ford\",\n",
    "  \"model\": \"Mustang GT\",\n",
    "  \"year\": 1964,\n",
    "  \"owner\": \"Toreto\"\n",
    "}\n",
    "\n",
    "# modifying dictionary elements\n",
    "my_dict[\"year\"] = 2018\n",
    "\n",
    "# adding elements\n",
    "my_dict[\"color\"] = \"black\"\n",
    "\n",
    "# removing elements\n",
    "my_dict.pop(\"model\")\n",
    "\n",
    "print(\"Updated Dictionary:\", my_dict)"
   ]
  },
  {
   "cell_type": "code",
   "execution_count": null,
   "id": "d4a6e061-a1cb-4767-b605-49ae464c7661",
   "metadata": {},
   "outputs": [],
   "source": []
  }
 ],
 "metadata": {
  "kernelspec": {
   "display_name": "Python 3 (ipykernel)",
   "language": "python",
   "name": "python3"
  },
  "language_info": {
   "codemirror_mode": {
    "name": "ipython",
    "version": 3
   },
   "file_extension": ".py",
   "mimetype": "text/x-python",
   "name": "python",
   "nbconvert_exporter": "python",
   "pygments_lexer": "ipython3",
   "version": "3.12.4"
  }
 },
 "nbformat": 4,
 "nbformat_minor": 5
}
